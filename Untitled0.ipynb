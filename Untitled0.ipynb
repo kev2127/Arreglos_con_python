{
  "nbformat": 4,
  "nbformat_minor": 0,
  "metadata": {
    "colab": {
      "provenance": [],
      "authorship_tag": "ABX9TyOT5o3+u/MhizPTqYh3OctK",
      "include_colab_link": true
    },
    "kernelspec": {
      "name": "python3",
      "display_name": "Python 3"
    },
    "language_info": {
      "name": "python"
    }
  },
  "cells": [
    {
      "cell_type": "markdown",
      "metadata": {
        "id": "view-in-github",
        "colab_type": "text"
      },
      "source": [
        "<a href=\"https://colab.research.google.com/github/kev2127/Arreglos_con_python/blob/main/Untitled0.ipynb\" target=\"_parent\"><img src=\"https://colab.research.google.com/assets/colab-badge.svg\" alt=\"Open In Colab\"/></a>"
      ]
    },
    {
      "cell_type": "code",
      "execution_count": null,
      "metadata": {
        "id": "LKdHwqUoD2zA"
      },
      "outputs": [],
      "source": [
        "import numpy as np\n",
        "#importa la biblioteca Numpy es una libreria  para manejo de arreglos, vectores y matrices y el es \"as\" es como un alias\n",
        "#primer ejemplo de numpy con vectores\n",
        "\n",
        "\n",
        "#Creamor un vector de 10 elementos\n",
        "vector = np.array([1,2,3,4,5,6,7,8,9,10])\n",
        "#imprimir el vector\n",
        "print(\"vector original: \", vector)"
      ]
    }
  ]
}