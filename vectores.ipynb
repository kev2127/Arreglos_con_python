{
  "nbformat": 4,
  "nbformat_minor": 0,
  "metadata": {
    "colab": {
      "provenance": [],
      "authorship_tag": "ABX9TyOjwddrxM97o0B2ZQ5RmAWB",
      "include_colab_link": true
    },
    "kernelspec": {
      "name": "python3",
      "display_name": "Python 3"
    },
    "language_info": {
      "name": "python"
    }
  },
  "cells": [
    {
      "cell_type": "markdown",
      "metadata": {
        "id": "view-in-github",
        "colab_type": "text"
      },
      "source": [
        "<a href=\"https://colab.research.google.com/github/kev2127/Arreglos_con_python/blob/main/vectores.ipynb\" target=\"_parent\"><img src=\"https://colab.research.google.com/assets/colab-badge.svg\" alt=\"Open In Colab\"/></a>"
      ]
    },
    {
      "cell_type": "code",
      "execution_count": 2,
      "metadata": {
        "colab": {
          "base_uri": "https://localhost:8080/"
        },
        "id": "TrDVHoPPm5gk",
        "outputId": "892d29ff-d72b-45d0-9915-a4571b96ab86"
      },
      "outputs": [
        {
          "output_type": "stream",
          "name": "stdout",
          "text": [
            "suma de vectores [5 7 9]\n",
            "producto de vectores  [ 4 10 18]\n",
            "division de vectores  [0.25 0.4  0.5 ]\n",
            "resta de vectores  [-3 -3 -3]\n",
            "\u001b[0;potencia de vectores:  [1 4 9]\n"
          ]
        }
      ],
      "source": [
        "import numpy as np\n",
        "vector1= np .array ([1,2,3])\n",
        "vector2 = np.array ([4,5,6])\n",
        "suma  = vector1 + vector2\n",
        "print(\"suma de vectores\", suma)\n",
        "producto = vector1 * vector2\n",
        "print(\"producto de vectores \", producto)\n",
        "division = vector1 / vector2\n",
        "print(\"division de vectores \", division)\n",
        "resta = vector1 - vector2\n",
        "print(\"resta de vectores \", resta)\n",
        "potencia = vector1 ** 2\n",
        "print(\"\\033[0;potencia de vectores: \", potencia )"
      ]
    },
    {
      "cell_type": "code",
      "source": [],
      "metadata": {
        "id": "1GnXsRouqzx_"
      },
      "execution_count": 2,
      "outputs": []
    }
  ]
}